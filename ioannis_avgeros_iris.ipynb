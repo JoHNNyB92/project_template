{
 "cells": [
  {
   "cell_type": "markdown",
   "metadata": {},
   "source": [
    "# Project Template\n",
    "\n",
    "A guide for applying machine learning on a dataset."
   ]
  },
  {
   "cell_type": "markdown",
   "metadata": {},
   "source": [
    "## Step 1: Prepare Project\n",
    "\n",
    "1. Load libraries\n",
    "2. Load dataset"
   ]
  },
  {
   "cell_type": "code",
   "execution_count": 130,
   "metadata": {
    "collapsed": true
   },
   "outputs": [],
   "source": [
    "# Pandas for managing datasets\n",
    "import pandas as pd\n",
    "from matplotlib import pyplot as plt\n",
    "%matplotlib inline\n",
    "import numpy as np\n",
    "import seaborn as sns\n",
    "import operator\n",
    "from sklearn.datasets import load_iris\n",
    "from pandas.plotting import scatter_matrix\n",
    "#Data Preparation\n",
    "from numpy import set_printoptions\n",
    "from sklearn.preprocessing import MinMaxScaler\n",
    "from sklearn.preprocessing import StandardScaler\n",
    "from sklearn.preprocessing import Normalizer\n",
    "from sklearn.preprocessing import Binarizer\n",
    "#Algorithm Selection\n",
    "from sklearn.model_selection import KFold\n",
    "from sklearn.model_selection import cross_val_score\n",
    "from sklearn.linear_model import LogisticRegression\n",
    "from sklearn.discriminant_analysis import LinearDiscriminantAnalysis\n",
    "from sklearn.neighbors import KNeighborsClassifier\n",
    "from sklearn.naive_bayes import GaussianNB\n",
    "from sklearn.tree import DecisionTreeClassifier\n",
    "from sklearn.svm import SVC\n",
    "#Model Training\n",
    "from sklearn.linear_model import Ridge\n",
    "from sklearn.model_selection import GridSearchCV\n",
    "from sklearn.model_selection import RandomizedSearchCV\n",
    "from scipy.stats import uniform\n",
    "from time import time\n",
    "from scipy.stats import randint as sp_randint\n",
    "from sklearn.datasets import load_digits\n",
    "from sklearn.ensemble import RandomForestClassifier\n",
    "from sklearn.model_selection import train_test_split\n",
    "from sklearn.metrics import confusion_matrix\n",
    "from sklearn.metrics import classification_report"
   ]
  },
  {
   "cell_type": "code",
   "execution_count": 79,
   "metadata": {
    "collapsed": true
   },
   "outputs": [],
   "source": [
    "iris = load_iris()\n",
    "\n",
    "#convert it to panda frame\n",
    "df = pd.DataFrame(data= np.c_[iris['data'], iris['target']],\n",
    "                     columns= iris['feature_names'] + ['target'])\n",
    "X = np.array(iris.data)\n",
    "Y = np.array(iris.target)"
   ]
  },
  {
   "cell_type": "markdown",
   "metadata": {},
   "source": [
    "## Step 2: Define Problem\n",
    "Our task is to find the best algorithm for classification of iris dataset.\n"
   ]
  },
  {
   "cell_type": "markdown",
   "metadata": {},
   "source": [
    "\n"
   ]
  },
  {
   "cell_type": "markdown",
   "metadata": {},
   "source": [
    "## Step 3: Exploratory Analysis\n",
    "Understand your data: Take a “peek” of your data, answer basic questions about the dataset.\n",
    "Summarise your data. Explore descriptive statistics and visualisations."
   ]
  },
  {
   "cell_type": "markdown",
   "metadata": {},
   "source": [
    "### 3.1 Take a peek of our data"
   ]
  },
  {
   "cell_type": "markdown",
   "metadata": {},
   "source": [
    "\n",
    "### Does the data make sense?¶\n",
    "\n",
    "    Do the columns make sense?\n",
    "    The columns of the dataset consist of sepal length,sepal width,petal length,petal width and class.The 4 first\n",
    "    columns of the dataset are general attributes of a flower,whereas the 5th attribute is what kind of flower the 4 \n",
    "    columns represent.We can say that the columns do make sense.\n",
    "    Do the values in columns make sense?\n",
    "        As we can see,the values do make sense(no negative values and in a reange according to the perspective of each attribute(eg sepal length in cm).\n",
    "    Is there missing data?\n",
    "        There are no missing data on the dataset.(df.isnull().values.any() returns false)\n",
    "\n",
    "### Dimensions of the data\n",
    "\n",
    "Answer basic questions about the dataset:\n",
    "\n",
    "    What is the shape of your data?\n",
    "        Shape of data is 150 rows with 5 columns.150 flowers with 5 attributes.\n",
    "        We can say that the we have a small number of observations.\n",
    "\n"
   ]
  },
  {
   "cell_type": "code",
   "execution_count": 80,
   "metadata": {},
   "outputs": [
    {
     "name": "stdout",
     "output_type": "stream",
     "text": [
      "sepal length (cm)  has a minimum-maximum value of: 4.3 - 7.9\n",
      "sepal width (cm)  has a minimum-maximum value of: 2.0 - 4.4\n",
      "petal length (cm)  has a minimum-maximum value of: 1.0 - 6.9\n",
      "petal width (cm)  has a minimum-maximum value of: 0.1 - 2.5\n",
      "Target variable has a minimum-maximum value of: 0 - 2\n"
     ]
    }
   ],
   "source": [
    "for ind in range(len(iris.feature_names)):\n",
    "    print iris.feature_names[ind],' has a minimum-maximum value of:',X[:,ind].min(),\"-\",X[:,ind].max()\n",
    "print \"Target variable has a minimum-maximum value of:\",Y.min(),\"-\",Y.max()"
   ]
  },
  {
   "cell_type": "markdown",
   "metadata": {},
   "source": [
    "### Data Type of Each Attribute\n",
    "Data types of the flower are numerical for the first 4 attributes,class column is categorical.\n",
    "\n"
   ]
  },
  {
   "cell_type": "code",
   "execution_count": 81,
   "metadata": {},
   "outputs": [
    {
     "name": "stdout",
     "output_type": "stream",
     "text": [
      "Shape is  (150, 5)\n",
      "sepal length (cm)    float64\n",
      "sepal width (cm)     float64\n",
      "petal length (cm)    float64\n",
      "petal width (cm)     float64\n",
      "target               float64\n",
      "dtype: object\n",
      "Are there any null values? False\n"
     ]
    }
   ],
   "source": [
    "print 'Shape is ',df.shape\n",
    "print df.dtypes\n",
    "print \"Are there any null values?\",df.isnull().values.any()"
   ]
  },
  {
   "cell_type": "markdown",
   "metadata": {},
   "source": [
    "\n",
    "### Do we have a target variable?\n",
    "Target variable is the class(target column) attribute.\n",
    "\n"
   ]
  },
  {
   "cell_type": "code",
   "execution_count": 82,
   "metadata": {},
   "outputs": [
    {
     "data": {
      "text/html": [
       "<div>\n",
       "<style>\n",
       "    .dataframe thead tr:only-child th {\n",
       "        text-align: right;\n",
       "    }\n",
       "\n",
       "    .dataframe thead th {\n",
       "        text-align: left;\n",
       "    }\n",
       "\n",
       "    .dataframe tbody tr th {\n",
       "        vertical-align: top;\n",
       "    }\n",
       "</style>\n",
       "<table border=\"1\" class=\"dataframe\">\n",
       "  <thead>\n",
       "    <tr style=\"text-align: right;\">\n",
       "      <th></th>\n",
       "      <th>sepal length (cm)</th>\n",
       "      <th>sepal width (cm)</th>\n",
       "      <th>petal length (cm)</th>\n",
       "      <th>petal width (cm)</th>\n",
       "      <th>target</th>\n",
       "    </tr>\n",
       "  </thead>\n",
       "  <tbody>\n",
       "    <tr>\n",
       "      <th>0</th>\n",
       "      <td>5.1</td>\n",
       "      <td>3.5</td>\n",
       "      <td>1.4</td>\n",
       "      <td>0.2</td>\n",
       "      <td>0.0</td>\n",
       "    </tr>\n",
       "    <tr>\n",
       "      <th>1</th>\n",
       "      <td>4.9</td>\n",
       "      <td>3.0</td>\n",
       "      <td>1.4</td>\n",
       "      <td>0.2</td>\n",
       "      <td>0.0</td>\n",
       "    </tr>\n",
       "    <tr>\n",
       "      <th>2</th>\n",
       "      <td>4.7</td>\n",
       "      <td>3.2</td>\n",
       "      <td>1.3</td>\n",
       "      <td>0.2</td>\n",
       "      <td>0.0</td>\n",
       "    </tr>\n",
       "    <tr>\n",
       "      <th>3</th>\n",
       "      <td>4.6</td>\n",
       "      <td>3.1</td>\n",
       "      <td>1.5</td>\n",
       "      <td>0.2</td>\n",
       "      <td>0.0</td>\n",
       "    </tr>\n",
       "    <tr>\n",
       "      <th>4</th>\n",
       "      <td>5.0</td>\n",
       "      <td>3.6</td>\n",
       "      <td>1.4</td>\n",
       "      <td>0.2</td>\n",
       "      <td>0.0</td>\n",
       "    </tr>\n",
       "  </tbody>\n",
       "</table>\n",
       "</div>"
      ],
      "text/plain": [
       "   sepal length (cm)  sepal width (cm)  petal length (cm)  petal width (cm)  \\\n",
       "0                5.1               3.5                1.4               0.2   \n",
       "1                4.9               3.0                1.4               0.2   \n",
       "2                4.7               3.2                1.3               0.2   \n",
       "3                4.6               3.1                1.5               0.2   \n",
       "4                5.0               3.6                1.4               0.2   \n",
       "\n",
       "   target  \n",
       "0     0.0  \n",
       "1     0.0  \n",
       "2     0.0  \n",
       "3     0.0  \n",
       "4     0.0  "
      ]
     },
     "execution_count": 82,
     "metadata": {},
     "output_type": "execute_result"
    }
   ],
   "source": [
    "df.head()"
   ]
  },
  {
   "cell_type": "code",
   "execution_count": 83,
   "metadata": {},
   "outputs": [
    {
     "data": {
      "text/html": [
       "<div>\n",
       "<style>\n",
       "    .dataframe thead tr:only-child th {\n",
       "        text-align: right;\n",
       "    }\n",
       "\n",
       "    .dataframe thead th {\n",
       "        text-align: left;\n",
       "    }\n",
       "\n",
       "    .dataframe tbody tr th {\n",
       "        vertical-align: top;\n",
       "    }\n",
       "</style>\n",
       "<table border=\"1\" class=\"dataframe\">\n",
       "  <thead>\n",
       "    <tr style=\"text-align: right;\">\n",
       "      <th></th>\n",
       "      <th>sepal length (cm)</th>\n",
       "      <th>sepal width (cm)</th>\n",
       "      <th>petal length (cm)</th>\n",
       "      <th>petal width (cm)</th>\n",
       "      <th>target</th>\n",
       "    </tr>\n",
       "  </thead>\n",
       "  <tbody>\n",
       "    <tr>\n",
       "      <th>145</th>\n",
       "      <td>6.7</td>\n",
       "      <td>3.0</td>\n",
       "      <td>5.2</td>\n",
       "      <td>2.3</td>\n",
       "      <td>2.0</td>\n",
       "    </tr>\n",
       "    <tr>\n",
       "      <th>146</th>\n",
       "      <td>6.3</td>\n",
       "      <td>2.5</td>\n",
       "      <td>5.0</td>\n",
       "      <td>1.9</td>\n",
       "      <td>2.0</td>\n",
       "    </tr>\n",
       "    <tr>\n",
       "      <th>147</th>\n",
       "      <td>6.5</td>\n",
       "      <td>3.0</td>\n",
       "      <td>5.2</td>\n",
       "      <td>2.0</td>\n",
       "      <td>2.0</td>\n",
       "    </tr>\n",
       "    <tr>\n",
       "      <th>148</th>\n",
       "      <td>6.2</td>\n",
       "      <td>3.4</td>\n",
       "      <td>5.4</td>\n",
       "      <td>2.3</td>\n",
       "      <td>2.0</td>\n",
       "    </tr>\n",
       "    <tr>\n",
       "      <th>149</th>\n",
       "      <td>5.9</td>\n",
       "      <td>3.0</td>\n",
       "      <td>5.1</td>\n",
       "      <td>1.8</td>\n",
       "      <td>2.0</td>\n",
       "    </tr>\n",
       "  </tbody>\n",
       "</table>\n",
       "</div>"
      ],
      "text/plain": [
       "     sepal length (cm)  sepal width (cm)  petal length (cm)  petal width (cm)  \\\n",
       "145                6.7               3.0                5.2               2.3   \n",
       "146                6.3               2.5                5.0               1.9   \n",
       "147                6.5               3.0                5.2               2.0   \n",
       "148                6.2               3.4                5.4               2.3   \n",
       "149                5.9               3.0                5.1               1.8   \n",
       "\n",
       "     target  \n",
       "145     2.0  \n",
       "146     2.0  \n",
       "147     2.0  \n",
       "148     2.0  \n",
       "149     2.0  "
      ]
     },
     "execution_count": 83,
     "metadata": {},
     "output_type": "execute_result"
    }
   ],
   "source": [
    "df.tail()"
   ]
  },
  {
   "cell_type": "markdown",
   "metadata": {},
   "source": [
    "### 3.2 Descriptive Statistics"
   ]
  },
  {
   "cell_type": "markdown",
   "metadata": {},
   "source": [
    "\n",
    "### describe() returns 8 statistical properties for each attribute\n",
    "\n",
    "    Count: how many values the attribute has\n",
    "    Mean: the mean of all values of the attribute\n",
    "    Standard Deviation: the amount of variation values have. Low $\\sigma$ means values are closer to the mean\n",
    "    Minimum value\n",
    "    25th Percentile: the value under which 25% of the instances can be found\n",
    "    50th Percentile: the value under which 50% of the instances can be found (also called the median, is the value that splits the distribution in half)\n",
    "    75th Percentile: the value under which 75% of the instances can be found\n",
    "    Maximum value\n",
    "\n"
   ]
  },
  {
   "cell_type": "code",
   "execution_count": 84,
   "metadata": {},
   "outputs": [
    {
     "data": {
      "text/html": [
       "<div>\n",
       "<style>\n",
       "    .dataframe thead tr:only-child th {\n",
       "        text-align: right;\n",
       "    }\n",
       "\n",
       "    .dataframe thead th {\n",
       "        text-align: left;\n",
       "    }\n",
       "\n",
       "    .dataframe tbody tr th {\n",
       "        vertical-align: top;\n",
       "    }\n",
       "</style>\n",
       "<table border=\"1\" class=\"dataframe\">\n",
       "  <thead>\n",
       "    <tr style=\"text-align: right;\">\n",
       "      <th></th>\n",
       "      <th>sepal length (cm)</th>\n",
       "      <th>sepal width (cm)</th>\n",
       "      <th>petal length (cm)</th>\n",
       "      <th>petal width (cm)</th>\n",
       "      <th>target</th>\n",
       "    </tr>\n",
       "  </thead>\n",
       "  <tbody>\n",
       "    <tr>\n",
       "      <th>count</th>\n",
       "      <td>150.000</td>\n",
       "      <td>150.000</td>\n",
       "      <td>150.000</td>\n",
       "      <td>150.000</td>\n",
       "      <td>150.000</td>\n",
       "    </tr>\n",
       "    <tr>\n",
       "      <th>mean</th>\n",
       "      <td>5.843</td>\n",
       "      <td>3.054</td>\n",
       "      <td>3.759</td>\n",
       "      <td>1.199</td>\n",
       "      <td>1.000</td>\n",
       "    </tr>\n",
       "    <tr>\n",
       "      <th>std</th>\n",
       "      <td>0.828</td>\n",
       "      <td>0.434</td>\n",
       "      <td>1.764</td>\n",
       "      <td>0.763</td>\n",
       "      <td>0.819</td>\n",
       "    </tr>\n",
       "    <tr>\n",
       "      <th>min</th>\n",
       "      <td>4.300</td>\n",
       "      <td>2.000</td>\n",
       "      <td>1.000</td>\n",
       "      <td>0.100</td>\n",
       "      <td>0.000</td>\n",
       "    </tr>\n",
       "    <tr>\n",
       "      <th>25%</th>\n",
       "      <td>5.100</td>\n",
       "      <td>2.800</td>\n",
       "      <td>1.600</td>\n",
       "      <td>0.300</td>\n",
       "      <td>0.000</td>\n",
       "    </tr>\n",
       "    <tr>\n",
       "      <th>50%</th>\n",
       "      <td>5.800</td>\n",
       "      <td>3.000</td>\n",
       "      <td>4.350</td>\n",
       "      <td>1.300</td>\n",
       "      <td>1.000</td>\n",
       "    </tr>\n",
       "    <tr>\n",
       "      <th>75%</th>\n",
       "      <td>6.400</td>\n",
       "      <td>3.300</td>\n",
       "      <td>5.100</td>\n",
       "      <td>1.800</td>\n",
       "      <td>2.000</td>\n",
       "    </tr>\n",
       "    <tr>\n",
       "      <th>max</th>\n",
       "      <td>7.900</td>\n",
       "      <td>4.400</td>\n",
       "      <td>6.900</td>\n",
       "      <td>2.500</td>\n",
       "      <td>2.000</td>\n",
       "    </tr>\n",
       "  </tbody>\n",
       "</table>\n",
       "</div>"
      ],
      "text/plain": [
       "       sepal length (cm)  sepal width (cm)  petal length (cm)  \\\n",
       "count            150.000           150.000            150.000   \n",
       "mean               5.843             3.054              3.759   \n",
       "std                0.828             0.434              1.764   \n",
       "min                4.300             2.000              1.000   \n",
       "25%                5.100             2.800              1.600   \n",
       "50%                5.800             3.000              4.350   \n",
       "75%                6.400             3.300              5.100   \n",
       "max                7.900             4.400              6.900   \n",
       "\n",
       "       petal width (cm)   target  \n",
       "count           150.000  150.000  \n",
       "mean              1.199    1.000  \n",
       "std               0.763    0.819  \n",
       "min               0.100    0.000  \n",
       "25%               0.300    0.000  \n",
       "50%               1.300    1.000  \n",
       "75%               1.800    2.000  \n",
       "max               2.500    2.000  "
      ]
     },
     "execution_count": 84,
     "metadata": {},
     "output_type": "execute_result"
    }
   ],
   "source": [
    "pd.set_option('precision', 3)\n",
    "df.describe()"
   ]
  },
  {
   "cell_type": "markdown",
   "metadata": {},
   "source": [
    "### Class Distribution \n",
    "\n",
    "Summarise distribution of instances across classes\n",
    "\n",
    "We can easily see that the number of flowers in each class is equally distributed."
   ]
  },
  {
   "cell_type": "code",
   "execution_count": 85,
   "metadata": {},
   "outputs": [
    {
     "ename": "KeyError",
     "evalue": "'class'",
     "output_type": "error",
     "traceback": [
      "\u001b[0;31m---------------------------------------------------------------------------\u001b[0m",
      "\u001b[0;31mKeyError\u001b[0m                                  Traceback (most recent call last)",
      "\u001b[0;32m<ipython-input-85-eebfaddd8670>\u001b[0m in \u001b[0;36m<module>\u001b[0;34m()\u001b[0m\n\u001b[0;32m----> 1\u001b[0;31m \u001b[0mdf\u001b[0m\u001b[0;34m.\u001b[0m\u001b[0mgroupby\u001b[0m\u001b[0;34m(\u001b[0m\u001b[0;34m'class'\u001b[0m\u001b[0;34m)\u001b[0m\u001b[0;34m.\u001b[0m\u001b[0msize\u001b[0m\u001b[0;34m(\u001b[0m\u001b[0;34m)\u001b[0m\u001b[0;34m\u001b[0m\u001b[0m\n\u001b[0m",
      "\u001b[0;32m/home/mscuser/anaconda2/lib/python2.7/site-packages/pandas/core/generic.pyc\u001b[0m in \u001b[0;36mgroupby\u001b[0;34m(self, by, axis, level, as_index, sort, group_keys, squeeze, **kwargs)\u001b[0m\n\u001b[1;32m   4269\u001b[0m         return groupby(self, by=by, axis=axis, level=level, as_index=as_index,\n\u001b[1;32m   4270\u001b[0m                        \u001b[0msort\u001b[0m\u001b[0;34m=\u001b[0m\u001b[0msort\u001b[0m\u001b[0;34m,\u001b[0m \u001b[0mgroup_keys\u001b[0m\u001b[0;34m=\u001b[0m\u001b[0mgroup_keys\u001b[0m\u001b[0;34m,\u001b[0m \u001b[0msqueeze\u001b[0m\u001b[0;34m=\u001b[0m\u001b[0msqueeze\u001b[0m\u001b[0;34m,\u001b[0m\u001b[0;34m\u001b[0m\u001b[0m\n\u001b[0;32m-> 4271\u001b[0;31m                        **kwargs)\n\u001b[0m\u001b[1;32m   4272\u001b[0m \u001b[0;34m\u001b[0m\u001b[0m\n\u001b[1;32m   4273\u001b[0m     def asfreq(self, freq, method=None, how=None, normalize=False,\n",
      "\u001b[0;32m/home/mscuser/anaconda2/lib/python2.7/site-packages/pandas/core/groupby.pyc\u001b[0m in \u001b[0;36mgroupby\u001b[0;34m(obj, by, **kwds)\u001b[0m\n\u001b[1;32m   1624\u001b[0m         \u001b[0;32mraise\u001b[0m \u001b[0mTypeError\u001b[0m\u001b[0;34m(\u001b[0m\u001b[0;34m'invalid type: %s'\u001b[0m \u001b[0;34m%\u001b[0m \u001b[0mtype\u001b[0m\u001b[0;34m(\u001b[0m\u001b[0mobj\u001b[0m\u001b[0;34m)\u001b[0m\u001b[0;34m)\u001b[0m\u001b[0;34m\u001b[0m\u001b[0m\n\u001b[1;32m   1625\u001b[0m \u001b[0;34m\u001b[0m\u001b[0m\n\u001b[0;32m-> 1626\u001b[0;31m     \u001b[0;32mreturn\u001b[0m \u001b[0mklass\u001b[0m\u001b[0;34m(\u001b[0m\u001b[0mobj\u001b[0m\u001b[0;34m,\u001b[0m \u001b[0mby\u001b[0m\u001b[0;34m,\u001b[0m \u001b[0;34m**\u001b[0m\u001b[0mkwds\u001b[0m\u001b[0;34m)\u001b[0m\u001b[0;34m\u001b[0m\u001b[0m\n\u001b[0m\u001b[1;32m   1627\u001b[0m \u001b[0;34m\u001b[0m\u001b[0m\n\u001b[1;32m   1628\u001b[0m \u001b[0;34m\u001b[0m\u001b[0m\n",
      "\u001b[0;32m/home/mscuser/anaconda2/lib/python2.7/site-packages/pandas/core/groupby.pyc\u001b[0m in \u001b[0;36m__init__\u001b[0;34m(self, obj, keys, axis, level, grouper, exclusions, selection, as_index, sort, group_keys, squeeze, **kwargs)\u001b[0m\n\u001b[1;32m    390\u001b[0m                                                     \u001b[0mlevel\u001b[0m\u001b[0;34m=\u001b[0m\u001b[0mlevel\u001b[0m\u001b[0;34m,\u001b[0m\u001b[0;34m\u001b[0m\u001b[0m\n\u001b[1;32m    391\u001b[0m                                                     \u001b[0msort\u001b[0m\u001b[0;34m=\u001b[0m\u001b[0msort\u001b[0m\u001b[0;34m,\u001b[0m\u001b[0;34m\u001b[0m\u001b[0m\n\u001b[0;32m--> 392\u001b[0;31m                                                     mutated=self.mutated)\n\u001b[0m\u001b[1;32m    393\u001b[0m \u001b[0;34m\u001b[0m\u001b[0m\n\u001b[1;32m    394\u001b[0m         \u001b[0mself\u001b[0m\u001b[0;34m.\u001b[0m\u001b[0mobj\u001b[0m \u001b[0;34m=\u001b[0m \u001b[0mobj\u001b[0m\u001b[0;34m\u001b[0m\u001b[0m\n",
      "\u001b[0;32m/home/mscuser/anaconda2/lib/python2.7/site-packages/pandas/core/groupby.pyc\u001b[0m in \u001b[0;36m_get_grouper\u001b[0;34m(obj, key, axis, level, sort, mutated)\u001b[0m\n\u001b[1;32m   2615\u001b[0m                 \u001b[0min_axis\u001b[0m\u001b[0;34m,\u001b[0m \u001b[0mname\u001b[0m\u001b[0;34m,\u001b[0m \u001b[0mlevel\u001b[0m\u001b[0;34m,\u001b[0m \u001b[0mgpr\u001b[0m \u001b[0;34m=\u001b[0m \u001b[0mFalse\u001b[0m\u001b[0;34m,\u001b[0m \u001b[0mNone\u001b[0m\u001b[0;34m,\u001b[0m \u001b[0mgpr\u001b[0m\u001b[0;34m,\u001b[0m \u001b[0mNone\u001b[0m\u001b[0;34m\u001b[0m\u001b[0m\n\u001b[1;32m   2616\u001b[0m             \u001b[0;32melse\u001b[0m\u001b[0;34m:\u001b[0m\u001b[0;34m\u001b[0m\u001b[0m\n\u001b[0;32m-> 2617\u001b[0;31m                 \u001b[0;32mraise\u001b[0m \u001b[0mKeyError\u001b[0m\u001b[0;34m(\u001b[0m\u001b[0mgpr\u001b[0m\u001b[0;34m)\u001b[0m\u001b[0;34m\u001b[0m\u001b[0m\n\u001b[0m\u001b[1;32m   2618\u001b[0m         \u001b[0;32melif\u001b[0m \u001b[0misinstance\u001b[0m\u001b[0;34m(\u001b[0m\u001b[0mgpr\u001b[0m\u001b[0;34m,\u001b[0m \u001b[0mGrouper\u001b[0m\u001b[0;34m)\u001b[0m \u001b[0;32mand\u001b[0m \u001b[0mgpr\u001b[0m\u001b[0;34m.\u001b[0m\u001b[0mkey\u001b[0m \u001b[0;32mis\u001b[0m \u001b[0;32mnot\u001b[0m \u001b[0mNone\u001b[0m\u001b[0;34m:\u001b[0m\u001b[0;34m\u001b[0m\u001b[0m\n\u001b[1;32m   2619\u001b[0m             \u001b[0;31m# Add key to exclusions\u001b[0m\u001b[0;34m\u001b[0m\u001b[0;34m\u001b[0m\u001b[0m\n",
      "\u001b[0;31mKeyError\u001b[0m: 'class'"
     ]
    }
   ],
   "source": [
    "df.groupby('class').size()"
   ]
  },
  {
   "attachments": {
    "image.png": {
     "image/png": "[encoded data removed]"
    }
   },
   "cell_type": "markdown",
   "metadata": {},
   "source": [
    "### Correlation between attributes\n",
    "Correlation refers to the relationship between two variables and how they may or may not change together. A correlation of -1 or 1 shows a full negative or positive correlation respectively(correlation>0 means that if one variable increases the other also increases and correlation<0 means that when variable decreases the other also decreases). Whereas a value of 0 shows no correlation at all.\n",
    "![image.png](attachment:image.png)\n",
    "We can see from our dataset that [petal length/petal width],[petal length/sepal length],[petal length/target],[petal width/target] and [petal width/sepal length] have a high positive correllation."
   ]
  },
  {
   "cell_type": "code",
   "execution_count": null,
   "metadata": {},
   "outputs": [],
   "source": [
    "df.corr(method='pearson')"
   ]
  },
  {
   "cell_type": "markdown",
   "metadata": {},
   "source": [
    "### Skew of Univariate Distributions\n",
    "Skewness is a measure of the asymmetry of the probability distribution of a real-valued random variable about its mean. The skewness value can be positive or negative, or undefined.\n",
    " With negative skew the the mass of the distribution is concentrated on the right while with a positive skew the mass of the distribution is concentrated on the left \n",
    "We can see that petal width and petal length have negative skewness,whereas the petal length and sepal width positive skewness.\n"
   ]
  },
  {
   "cell_type": "code",
   "execution_count": null,
   "metadata": {},
   "outputs": [],
   "source": [
    "df.skew()"
   ]
  },
  {
   "cell_type": "markdown",
   "metadata": {},
   "source": [
    "### 3.3 Descriptive Statistics"
   ]
  },
  {
   "cell_type": "markdown",
   "metadata": {},
   "source": [
    "### Summarise distributions of numeric features\n",
    "We are going to use histograms.\n",
    "The sepal length(mean=5.843) and sepal width(mean=3.054) the mass of the distribution is concentrated on the right,whereas the petal length(mean=3.759) and petal width(mean=1.199) the mass of the distribution is concentrated on the left.\n",
    "We should note here though that the skewness is pretty close to 0,so we could also say that the distribution is pretty normal.\n"
   ]
  },
  {
   "cell_type": "code",
   "execution_count": null,
   "metadata": {},
   "outputs": [],
   "source": [
    "h = df.hist()\n",
    "plt.show()"
   ]
  },
  {
   "cell_type": "markdown",
   "metadata": {},
   "source": [
    "### Density Plots\n",
    "Sepal length and sepal width have a more normalise distribution,whereas the values of petal length and petal width are more random.\n"
   ]
  },
  {
   "cell_type": "code",
   "execution_count": 86,
   "metadata": {},
   "outputs": [
    {
     "data": {
      "image/png": "[encoded data removed]",
      "text/plain": [
       "<matplotlib.figure.Figure at 0x7fa09bd46750>"
      ]
     },
     "metadata": {},
     "output_type": "display_data"
    }
   ],
   "source": [
    "df.plot(kind='density', subplots=True, layout=(5,1), sharex=False)\n",
    "plt.show()"
   ]
  },
  {
   "attachments": {
    "image.png": {
     "image/png": "[encoded data removed]"
    }
   },
   "cell_type": "markdown",
   "metadata": {},
   "source": [
    "### Box plots\n",
    "Box plot can be summarised to the following:\n",
    "![image.png](attachment:image.png)"
   ]
  },
  {
   "cell_type": "code",
   "execution_count": 87,
   "metadata": {},
   "outputs": [
    {
     "data": {
      "image/png": "[encoded data removed]",
      "text/plain": [
       "<matplotlib.figure.Figure at 0x7fa09c5bf750>"
      ]
     },
     "metadata": {},
     "output_type": "display_data"
    }
   ],
   "source": [
    "bp = df.plot(kind='box', subplots=True, layout=(1,5), sharex=False, sharey=False)\n",
    "plt.show()"
   ]
  },
  {
   "cell_type": "code",
   "execution_count": 88,
   "metadata": {},
   "outputs": [
    {
     "data": {
      "text/plain": [
       "<matplotlib.axes._subplots.AxesSubplot at 0x7fa09ef25e10>"
      ]
     },
     "execution_count": 88,
     "metadata": {},
     "output_type": "execute_result"
    },
    {
     "data": {
      "image/png": "[encoded data removed]",
      "text/plain": [
       "<matplotlib.figure.Figure at 0x7fa09ef25850>"
      ]
     },
     "metadata": {},
     "output_type": "display_data"
    }
   ],
   "source": [
    "f = plt.figure(figsize=(8,8))\n",
    "sns.boxplot(data=df)"
   ]
  },
  {
   "cell_type": "markdown",
   "metadata": {},
   "source": [
    "### Correlation Matrix\n",
    "The darker the box gets,the more correlated the two attributes are."
   ]
  },
  {
   "cell_type": "code",
   "execution_count": 89,
   "metadata": {},
   "outputs": [
    {
     "name": "stdout",
     "output_type": "stream",
     "text": [
      "                   sepal length (cm)  sepal width (cm)  petal length (cm)  \\\n",
      "sepal length (cm)              1.000            -0.109              0.872   \n",
      "sepal width (cm)              -0.109             1.000             -0.421   \n",
      "petal length (cm)              0.872            -0.421              1.000   \n",
      "petal width (cm)               0.818            -0.357              0.963   \n",
      "target                         0.783            -0.419              0.949   \n",
      "\n",
      "                   petal width (cm)  target  \n",
      "sepal length (cm)             0.818   0.783  \n",
      "sepal width (cm)             -0.357  -0.419  \n",
      "petal length (cm)             0.963   0.949  \n",
      "petal width (cm)              1.000   0.956  \n",
      "target                        0.956   1.000  \n"
     ]
    },
    {
     "data": {
      "image/png": "[encoded data removed]",
      "text/plain": [
       "<matplotlib.figure.Figure at 0x7fa09be0fad0>"
      ]
     },
     "metadata": {},
     "output_type": "display_data"
    }
   ],
   "source": [
    "correlations = df.corr()\n",
    "print correlations\n",
    "# plot correlation matrix\n",
    "fig = plt.figure(figsize=(8,8))\n",
    "ax = fig.add_subplot(111)\n",
    "cax = ax.matshow(correlations, vmin=-1, vmax=1)\n",
    "fig.colorbar(cax)\n",
    "ticks = np.arange(0,4,1)\n",
    "ax.set_xticks(ticks)\n",
    "ax.set_yticks(ticks)\n",
    "names1=['sl','sw','pl','pw','tgt']\n",
    "ax.set_xticklabels(names1)\n",
    "ax.set_yticklabels(names1)\n",
    "plt.show()"
   ]
  },
  {
   "cell_type": "code",
   "execution_count": 90,
   "metadata": {},
   "outputs": [
    {
     "data": {
      "text/plain": [
       "<matplotlib.axes._subplots.AxesSubplot at 0x7fa09f2f78d0>"
      ]
     },
     "execution_count": 90,
     "metadata": {},
     "output_type": "execute_result"
    },
    {
     "data": {
      "image/png": "[encoded data removed]",
      "text/plain": [
       "<matplotlib.figure.Figure at 0x7fa09f12c750>"
      ]
     },
     "metadata": {},
     "output_type": "display_data"
    }
   ],
   "source": [
    "# In seaborn we can use a heatmap:\n",
    "# Heatmap\n",
    "sns.heatmap(correlations)"
   ]
  },
  {
   "cell_type": "markdown",
   "metadata": {},
   "source": [
    "### Scatter plots\n",
    "Scatter plots are useful for spotting structured relationships between variables, like whether you could summarise the relationship between two variables with a line.\n",
    "We can see from here that the attributes for iris setosa separate this class compared to the other two variations of the flower.\n"
   ]
  },
  {
   "cell_type": "code",
   "execution_count": 91,
   "metadata": {
    "scrolled": false
   },
   "outputs": [
    {
     "data": {
      "text/plain": [
       "<seaborn.axisgrid.FacetGrid at 0x7fa09b20f6d0>"
      ]
     },
     "execution_count": 91,
     "metadata": {},
     "output_type": "execute_result"
    },
    {
     "data": {
      "image/png": "[encoded data removed]",
      "text/plain": [
       "<matplotlib.figure.Figure at 0x7fa09ba8a090>"
      ]
     },
     "metadata": {},
     "output_type": "display_data"
    },
    {
     "data": {
      "image/png": "[encoded data removed]",
      "text/plain": [
       "<matplotlib.figure.Figure at 0x7fa09ed8d090>"
      ]
     },
     "metadata": {},
     "output_type": "display_data"
    },
    {
     "data": {
      "image/png": "[encoded data removed]",
      "text/plain": [
       "<matplotlib.figure.Figure at 0x7fa09b1cea90>"
      ]
     },
     "metadata": {},
     "output_type": "display_data"
    },
    {
     "data": {
      "image/png": "[encoded data removed]",
      "text/plain": [
       "<matplotlib.figure.Figure at 0x7fa09b35fe90>"
      ]
     },
     "metadata": {},
     "output_type": "display_data"
    },
    {
     "data": {
      "image/png": "[encoded data removed]",
      "text/plain": [
       "<matplotlib.figure.Figure at 0x7fa09b7eac10>"
      ]
     },
     "metadata": {},
     "output_type": "display_data"
    },
    {
     "data": {
      "image/png": "[encoded data removed]",
      "text/plain": [
       "<matplotlib.figure.Figure at 0x7fa09b0d7a90>"
      ]
     },
     "metadata": {},
     "output_type": "display_data"
    }
   ],
   "source": [
    "sns.lmplot(data=df, y='sepal length (cm)', x='sepal width (cm)', hue='target', fit_reg=False)\n",
    "sns.lmplot(data=df, y='sepal length (cm)', x='petal width (cm)', hue='target', fit_reg=False)\n",
    "sns.lmplot(data=df, y='sepal length (cm)', x='petal length (cm)', hue='target', fit_reg=False)\n",
    "sns.lmplot(data=df, y='petal length (cm)', x='sepal width (cm)', hue='target', fit_reg=False)\n",
    "sns.lmplot(data=df, y='petal length (cm)', x='petal width (cm)', hue='target', fit_reg=False)\n",
    "sns.lmplot(data=df, y='petal width (cm)', x='sepal width (cm)', hue='target', fit_reg=False)"
   ]
  },
  {
   "cell_type": "code",
   "execution_count": 92,
   "metadata": {},
   "outputs": [
    {
     "data": {
      "image/png": "[encoded data removed]",
      "text/plain": [
       "<matplotlib.figure.Figure at 0x7fa09ef758d0>"
      ]
     },
     "metadata": {},
     "output_type": "display_data"
    }
   ],
   "source": [
    "scatter_matrix(df)\n",
    "plt.show()"
   ]
  },
  {
   "cell_type": "markdown",
   "metadata": {},
   "source": [
    "## Step 4: Prepare Data\n",
    "Data Cleaning/Data Wrangling/Collect more data (if necessary)."
   ]
  },
  {
   "cell_type": "markdown",
   "metadata": {},
   "source": [
    "### Rescale Data\n",
    "Rescaling data is multiplying each member of a data set by a constant.The rescaled data have a value between 0 and 1.Rescaling will change the spread of your data as well as the position of your data points. What remains unchanged is the shape of distribution and the relative attributes of our curve. "
   ]
  },
  {
   "cell_type": "code",
   "execution_count": 93,
   "metadata": {},
   "outputs": [
    {
     "name": "stdout",
     "output_type": "stream",
     "text": [
      "[[ 0.222  0.625  0.068  0.042]\n",
      " [ 0.167  0.417  0.068  0.042]\n",
      " [ 0.111  0.5    0.051  0.042]\n",
      " [ 0.083  0.458  0.085  0.042]\n",
      " [ 0.194  0.667  0.068  0.042]]\n"
     ]
    }
   ],
   "source": [
    "array = df.values\n",
    "# separate array into input and output components\n",
    "X = array[:,0:4]\n",
    "Y = array[:,4]\n",
    "scaler = MinMaxScaler(feature_range=(0, 1))\n",
    "X = scaler.fit_transform(X)\n",
    "# summarise transformed data\n",
    "set_printoptions(precision=3)\n",
    "print(X[0:5,:])"
   ]
  },
  {
   "cell_type": "markdown",
   "metadata": {},
   "source": [
    "### Standardise Data\n",
    "A standardized value is what you get when you take a data point and scale it by population data."
   ]
  },
  {
   "cell_type": "code",
   "execution_count": 94,
   "metadata": {},
   "outputs": [
    {
     "name": "stdout",
     "output_type": "stream",
     "text": [
      "[[-0.901  1.032 -1.341 -1.313]\n",
      " [-1.143 -0.125 -1.341 -1.313]\n",
      " [-1.385  0.338 -1.398 -1.313]\n",
      " [-1.507  0.106 -1.284 -1.313]\n",
      " [-1.022  1.263 -1.341 -1.313]]\n"
     ]
    }
   ],
   "source": [
    "scaler = StandardScaler().fit(X)\n",
    "X = scaler.transform(X)\n",
    "# summarise transformed data\n",
    "set_printoptions(precision=3)\n",
    "print(X[0:5,:])"
   ]
  },
  {
   "cell_type": "markdown",
   "metadata": {},
   "source": [
    "### Normalise Data (length = 1)"
   ]
  },
  {
   "cell_type": "code",
   "execution_count": 95,
   "metadata": {},
   "outputs": [
    {
     "name": "stdout",
     "output_type": "stream",
     "text": [
      "[[-0.388  0.444 -0.577 -0.565]\n",
      " [-0.519 -0.057 -0.609 -0.596]\n",
      " [-0.58   0.141 -0.585 -0.549]\n",
      " [-0.634  0.045 -0.54  -0.552]\n",
      " [-0.412  0.509 -0.54  -0.529]]\n"
     ]
    }
   ],
   "source": [
    "scaler = Normalizer().fit(X)\n",
    "X = Normalizer().transform(X)\n",
    "# summarise transformed data\n",
    "print(X[0:5,:])"
   ]
  },
  {
   "cell_type": "markdown",
   "metadata": {},
   "source": [
    "## Step 5: Feature Engineering"
   ]
  },
  {
   "cell_type": "markdown",
   "metadata": {
    "collapsed": true
   },
   "source": [
    "A feature is an attribute or property shared by all of the independent units on which analysis or prediction is to be done. Any attribute could be a feature, as long as it is useful to the model. The purpose of a feature, other than being an attribute, would be much easier to understand in the context of a problem. A feature is a characteristic that might help when solving the problem. The features in our data are important to the predictive models you use and will influence the results we are going to achieve. The quality and quantity of the features will have great influence on whether the model is good or not.You could say the better the features are, the better the result is. This isn't entirely true, because the results achieved also depend on the model and the data, not just the chosen features. That said, choosing the right features is still very important. Better features can produce simpler and more flexible models, and they often yield better results"
   ]
  },
  {
   "cell_type": "markdown",
   "metadata": {},
   "source": [
    "## Step 6: Algorithm Selection\n",
    "Below we execute a number of algorithms and print their mean estimated accuracy."
   ]
  },
  {
   "cell_type": "markdown",
   "metadata": {},
   "source": [
    "### 6.1 Algorithm Selection\n",
    "K-Folds cross-validator.\n",
    "Provides train/test indices to split data in train/test sets. Split dataset into k consecutive folds (without shuffling by default)."
   ]
  },
  {
   "cell_type": "code",
   "execution_count": 96,
   "metadata": {
    "collapsed": true
   },
   "outputs": [],
   "source": [
    "kfold = KFold(n_splits=10, random_state=7)"
   ]
  },
  {
   "cell_type": "markdown",
   "metadata": {},
   "source": [
    "### Logistic Regression"
   ]
  },
  {
   "cell_type": "code",
   "execution_count": 97,
   "metadata": {},
   "outputs": [
    {
     "name": "stdout",
     "output_type": "stream",
     "text": [
      "0.753333333333\n"
     ]
    }
   ],
   "source": [
    "results = cross_val_score(LogisticRegression(), X, Y, cv=kfold)\n",
    "print(results.mean()) ;# prints the mean estimated accuracy"
   ]
  },
  {
   "cell_type": "markdown",
   "metadata": {},
   "source": [
    "### Linear Discriminant Analysis"
   ]
  },
  {
   "cell_type": "code",
   "execution_count": 98,
   "metadata": {},
   "outputs": [
    {
     "name": "stdout",
     "output_type": "stream",
     "text": [
      "0.826666666667\n"
     ]
    }
   ],
   "source": [
    "results = cross_val_score(LinearDiscriminantAnalysis(), X, Y, cv=kfold)\n",
    "print(results.mean())"
   ]
  },
  {
   "cell_type": "markdown",
   "metadata": {
    "collapsed": true
   },
   "source": [
    "### KNNeighbors Classifier"
   ]
  },
  {
   "cell_type": "code",
   "execution_count": 99,
   "metadata": {},
   "outputs": [
    {
     "name": "stdout",
     "output_type": "stream",
     "text": [
      "0.833333333333\n"
     ]
    }
   ],
   "source": [
    "results = cross_val_score(KNeighborsClassifier(), X, Y, cv=kfold)\n",
    "print results.mean()"
   ]
  },
  {
   "cell_type": "markdown",
   "metadata": {},
   "source": [
    "### Naive Bayes"
   ]
  },
  {
   "cell_type": "code",
   "execution_count": 100,
   "metadata": {},
   "outputs": [
    {
     "name": "stdout",
     "output_type": "stream",
     "text": [
      "0.873333333333\n"
     ]
    }
   ],
   "source": [
    "results = cross_val_score(GaussianNB(), X, Y, cv=kfold)\n",
    "print(results.mean())"
   ]
  },
  {
   "cell_type": "markdown",
   "metadata": {},
   "source": [
    "\n",
    "### Decision Trees"
   ]
  },
  {
   "cell_type": "code",
   "execution_count": 101,
   "metadata": {},
   "outputs": [
    {
     "name": "stdout",
     "output_type": "stream",
     "text": [
      "0.786666666667\n"
     ]
    }
   ],
   "source": [
    "results = cross_val_score(DecisionTreeClassifier(), X, Y, cv=kfold)\n",
    "print(results.mean())"
   ]
  },
  {
   "cell_type": "markdown",
   "metadata": {},
   "source": [
    "### Support Vector Machines"
   ]
  },
  {
   "cell_type": "code",
   "execution_count": 102,
   "metadata": {},
   "outputs": [
    {
     "name": "stdout",
     "output_type": "stream",
     "text": [
      "0.806666666667\n"
     ]
    }
   ],
   "source": [
    "results = cross_val_score(SVC(), X, Y, cv=kfold)\n",
    "print(results.mean())"
   ]
  },
  {
   "cell_type": "markdown",
   "metadata": {},
   "source": [
    "### 6.2 Algorithm Comparison"
   ]
  },
  {
   "cell_type": "markdown",
   "metadata": {},
   "source": [
    "\n",
    "We are going to compare a set of algorithms:\n",
    "\n",
    "    Logistic Regression\n",
    "    Linear Discriminant Analysis\n",
    "    k-Nearest Neighbors\n",
    "    Decision Trees\n",
    "    Naive Bayes\n",
    "    Support Vector Machines\n",
    "\n"
   ]
  },
  {
   "cell_type": "code",
   "execution_count": 103,
   "metadata": {
    "collapsed": true
   },
   "outputs": [],
   "source": [
    "# Create a list, with one item per algorithm. Each item has a name, and a classifier object.\n",
    "models1 = {}\n",
    "models1[\"LR\"]=LogisticRegression()\n",
    "models1[\"LDA\"]=LinearDiscriminantAnalysis()\n",
    "models1[\"kNN\"]=KNeighborsClassifier()\n",
    "models1[\"DT\"]=DecisionTreeClassifier()\n",
    "models1[\"NB\"]=GaussianNB()\n",
    "models1[\"SVC\"]=SVC()"
   ]
  },
  {
   "cell_type": "markdown",
   "metadata": {},
   "source": [
    "The scoring function to use:"
   ]
  },
  {
   "cell_type": "code",
   "execution_count": 104,
   "metadata": {
    "collapsed": true
   },
   "outputs": [],
   "source": [
    "scoring = 'accuracy'"
   ]
  },
  {
   "cell_type": "markdown",
   "metadata": {},
   "source": [
    "We are going to evaluate all classifiers using kfold and scoring accuracy and store results in two lists:"
   ]
  },
  {
   "cell_type": "code",
   "execution_count": 105,
   "metadata": {},
   "outputs": [
    {
     "name": "stdout",
     "output_type": "stream",
     "text": [
      "       kNN: 0.900000 (+/- 0.072648)\n",
      "       LDA: 0.866667 (+/- 0.055277)\n",
      "        NB: 0.891667 (+/- 0.075000)\n",
      "       SVC: 0.858333 (+/- 0.065085)\n",
      "        LR: 0.833333 (+/- 0.111803)\n",
      "        DT: 0.841667 (+/- 0.078617)\n"
     ]
    }
   ],
   "source": [
    "results = []\n",
    "names   = []\n",
    "x,x_test,y,y_test = train_test_split(X, Y, test_size=0.2, random_state=0)\n",
    "kfold = KFold(n_splits=10, random_state=7)\n",
    "for ind, name in enumerate(models1):\n",
    "  cv_results = cross_val_score(models1[name], x, y, cv=kfold, scoring=scoring)\n",
    "  results.append(cv_results)\n",
    "  names.append(name)\n",
    "  print(\"%010s: %f (+/- %f)\" % (name, cv_results.mean(), cv_results.std()))"
   ]
  },
  {
   "cell_type": "markdown",
   "metadata": {},
   "source": [
    "### Lets plot results"
   ]
  },
  {
   "cell_type": "code",
   "execution_count": 106,
   "metadata": {},
   "outputs": [
    {
     "data": {
      "image/png": "[encoded data removed]",
      "text/plain": [
       "<matplotlib.figure.Figure at 0x7fa09bf6b310>"
      ]
     },
     "metadata": {},
     "output_type": "display_data"
    }
   ],
   "source": [
    "plt.boxplot(results)\n",
    "plt.xticks(list(range(1,len(names)+1)), names)\n",
    "plt.show()"
   ]
  },
  {
   "cell_type": "code",
   "execution_count": null,
   "metadata": {
    "collapsed": true
   },
   "outputs": [],
   "source": []
  },
  {
   "cell_type": "markdown",
   "metadata": {},
   "source": [
    "## Step 7: Model Training\n",
    "Apply ensembles and improve performance by hyperparameter optimisation."
   ]
  },
  {
   "cell_type": "markdown",
   "metadata": {},
   "source": [
    "### Python scikit-learn provides a simple method for algorithm parameter tuning:\n",
    "Grid Search\n"
   ]
  },
  {
   "cell_type": "code",
   "execution_count": 107,
   "metadata": {
    "collapsed": true
   },
   "outputs": [],
   "source": [
    "x,x_test,y,y_test = train_test_split(X, Y, test_size=0.2, random_state=0)\n",
    "models={}\n",
    "kfold = KFold(n_splits=10, random_state=7)\n",
    "mean_scores={}\n",
    "scores={}\n",
    "algos={}"
   ]
  },
  {
   "cell_type": "markdown",
   "metadata": {},
   "source": [
    "### Decision Tree Classifier with parameter tuning\n",
    "<h4>max_features</h4>\n",
    "The function to measure the quality of a split. Supported criteria are “gini” for the Gini impurity and “entropy” for the information gain.\n",
    "<h4>splitter</h4>\n",
    "The strategy used to choose the split at each node. Supported strategies are “best” to choose the best split and “random” to choose the best random split.\n",
    "<h4>max_depth</h4>\n",
    "The maximum depth of the tree\n"
   ]
  },
  {
   "cell_type": "code",
   "execution_count": 108,
   "metadata": {
    "collapsed": true
   },
   "outputs": [],
   "source": [
    "parameters = {'criterion': ['gini','entropy'],\n",
    "          'splitter': ['best','random'], \n",
    "          'max_depth':[1,2,3]}"
   ]
  },
  {
   "cell_type": "markdown",
   "metadata": {},
   "source": [
    "Create and fit a decision tree classifier model, testing each parameter:"
   ]
  },
  {
   "cell_type": "code",
   "execution_count": 109,
   "metadata": {},
   "outputs": [
    {
     "name": "stdout",
     "output_type": "stream",
     "text": [
      "[ 0.75   0.833  0.75   0.75   1.     0.833  1.     0.75   0.833  0.833]\n",
      "0.833333333333\n"
     ]
    }
   ],
   "source": [
    "model=DecisionTreeClassifier()\n",
    "models[\"DT\"] = GridSearchCV(model, param_grid=parameters)\n",
    "#Learning\n",
    "models[\"DT\"].fit(x,y)\n",
    "algos[\"DT\"] = DecisionTreeClassifier(criterion=models[\"DT\"].best_params_[\"criterion\"],\n",
    "                             splitter=models[\"DT\"].best_params_[\"splitter\"],\n",
    "                                     max_depth=models[\"DT\"].best_params_[\"max_depth\"])\n",
    "scores[\"DT\"] = cross_val_score(algos[\"DT\"], x, y, cv=kfold, scoring=scoring)\n",
    "mean_scores[\"DT\"]=scores[\"DT\"].mean()\n",
    "print scores[\"DT\"]\n",
    "print mean_scores[\"DT\"]\n"
   ]
  },
  {
   "cell_type": "markdown",
   "metadata": {},
   "source": [
    "### Logistic Regression with parameter tuning\n",
    "<h4>solver_options</h4>\n",
    "default: ‘liblinear’ Algorithm to use in the optimization problem.\n",
    "    For small datasets, ‘liblinear’ is a good choice, whereas ‘sag’ and\n",
    "        ‘saga’ are faster for large ones.\n",
    "    For multiclass problems, only ‘newton-cg’, ‘sag’, ‘saga’ and ‘lbfgs’\n",
    "        handle multinomial loss; ‘liblinear’ is limited to one-versus-rest schemes.\n",
    "    ‘newton-cg’, ‘lbfgs’ and ‘sag’ only handle L2 penalty, whereas\n",
    "        ‘liblinear’ and ‘saga’ handle L1 penalty.\n",
    "<h4>multi_class_options</h4>\n",
    "Multiclass option can be either ‘ovr’ or ‘multinomial’. If the option chosen is ‘ovr’, then a binary problem is fit for each label. Else the loss minimised is the multinomial loss fit across the entire probability distribution\n",
    "<h4>class_weight_options</h4>\n",
    "Weights associated with classes in the form {class_label: weight}. If not given, all classes are supposed to have weight one.\n"
   ]
  },
  {
   "cell_type": "code",
   "execution_count": 110,
   "metadata": {
    "collapsed": true
   },
   "outputs": [],
   "source": [
    "solver_options = ['newton-cg', 'lbfgs', 'liblinear', 'sag']\n",
    "multi_class_options = ['ovr']\n",
    "class_weight_options = [None,'balanced']\n",
    "\n",
    "parameters = dict(solver = solver_options, multi_class = \n",
    "multi_class_options, class_weight = class_weight_options)"
   ]
  },
  {
   "cell_type": "code",
   "execution_count": 111,
   "metadata": {},
   "outputs": [
    {
     "name": "stdout",
     "output_type": "stream",
     "text": [
      "('Best Hyper Parameters:', {'multi_class': 'ovr', 'solver': 'newton-cg', 'class_weight': None})\n",
      "[ 0.75   0.75   0.583  0.833  1.     0.917  0.833  0.917  0.917  0.833]\n",
      "0.833333333333\n"
     ]
    }
   ],
   "source": [
    "model=LogisticRegression()\n",
    "models[\"LR\"] = GridSearchCV(model, param_grid=parameters)\n",
    "#Learning\n",
    "models[\"LR\"].fit(x,y)\n",
    "print(\"Best Hyper Parameters:\",models[\"LR\"].best_params_)\n",
    "algos[\"LR\"] = LogisticRegression(solver=models[\"LR\"].best_params_[\"solver\"],\n",
    "                             multi_class=models[\"LR\"].best_params_[\"multi_class\"],\n",
    "                             class_weight=models[\"LR\"].best_params_[\"class_weight\"])\n",
    "scores[\"LR\"] = cross_val_score(algos[\"LR\"], x, y, cv=kfold, scoring=scoring)\n",
    "mean_scores[\"LR\"]=scores[\"LR\"].mean()\n",
    "print scores[\"LR\"]\n",
    "print mean_scores[\"LR\"]"
   ]
  },
  {
   "cell_type": "markdown",
   "metadata": {},
   "source": [
    "### Linear Discriminant Analysis with parameter tuning\n",
    "<h4>solver</h4>\n",
    "Solver to use, possible values:\n",
    "    ‘svd’: Singular value decomposition (default). Does not compute the covariance matrix, therefore this solver is recommended for data with a large number of features.\n",
    "    ‘lsqr’: Least squares solution, can be combined with shrinkage.\n",
    "    ‘eigen’: Eigenvalue decomposition, can be combined with shrinkage.\n",
    "<h4>n_components</h4>\n",
    "Number of components (< n_classes - 1) for dimensionality reduction.\n"
   ]
  },
  {
   "cell_type": "code",
   "execution_count": 112,
   "metadata": {
    "collapsed": true
   },
   "outputs": [],
   "source": [
    " parameters = {'solver' : ['svd','lsqr' ,'eigen'],\n",
    "        'n_components' : [2,3,4,5,6,7,8,9,10,11,12,]}"
   ]
  },
  {
   "cell_type": "code",
   "execution_count": 113,
   "metadata": {
    "scrolled": true
   },
   "outputs": [
    {
     "name": "stdout",
     "output_type": "stream",
     "text": [
      "('Best Hyper Parameters:', {'n_components': 2, 'solver': 'svd'})\n",
      "[ 0.833  0.833  0.833  0.833  1.     0.917  0.833  0.917  0.833  0.833]\n",
      "0.866666666667\n"
     ]
    }
   ],
   "source": [
    "model=LinearDiscriminantAnalysis()\n",
    "models[\"LDA\"] = GridSearchCV(model, param_grid=parameters)\n",
    "#Learning\n",
    "models[\"LDA\"].fit(x,y)\n",
    "print(\"Best Hyper Parameters:\",models[\"LDA\"].best_params_)\n",
    "algos[\"LDA\"] = LinearDiscriminantAnalysis(solver=models[\"LDA\"].best_params_[\"solver\"],\n",
    "                             n_components=models[\"LDA\"].best_params_[\"n_components\"])\n",
    "scores[\"LDA\"] = cross_val_score(algos[\"LDA\"], x, y, cv=kfold, scoring=scoring)\n",
    "mean_scores[\"LDA\"]=scores[\"LDA\"].mean()\n",
    "print scores[\"LDA\"]\n",
    "print mean_scores[\"LDA\"]\n"
   ]
  },
  {
   "cell_type": "markdown",
   "metadata": {},
   "source": [
    "### KNeighborsClassifier with parameter tuning\n",
    "<h4>n_neighbors</h4>\n",
    "Number of neighbors to use by default for kneighbors queries.\n",
    "<h4>weights</h4>\n",
    "weight function used in prediction. Possible values:\n",
    "        ‘uniform’ : uniform weights. All points in each neighborhood are weighted equally.\n",
    "        ‘distance’ : weight points by the inverse of their distance. in this case, closer neighbors of a query point will have a greater influence than neighbors which are further away.\n",
    "        [callable] : a user-defined function which accepts an array of distances, and returns an array of the same shape containing the weights.\n",
    "\n",
    "\n",
    "\n"
   ]
  },
  {
   "cell_type": "code",
   "execution_count": 114,
   "metadata": {
    "collapsed": true
   },
   "outputs": [],
   "source": [
    "neighbors = np.arange(10)+1\n",
    "parameters = {'n_neighbors': neighbors,\n",
    "             'weights':['uniform', 'distance']}"
   ]
  },
  {
   "cell_type": "code",
   "execution_count": 115,
   "metadata": {},
   "outputs": [
    {
     "name": "stdout",
     "output_type": "stream",
     "text": [
      "[ 0.833  0.833  0.75   0.917  1.     0.917  1.     1.     0.833  0.917]\n",
      "0.9\n"
     ]
    }
   ],
   "source": [
    "model=KNeighborsClassifier()\n",
    "models[\"kNN\"] = GridSearchCV(model, param_grid=parameters)\n",
    "#Learning\n",
    "models[\"kNN\"].fit(x,y)\n",
    "algos[\"kNN\"] = KNeighborsClassifier(n_neighbors=models[\"kNN\"].best_params_['n_neighbors'],\n",
    "                          weights=models[\"kNN\"].best_params_['weights'])\n",
    "scores[\"kNN\"] = cross_val_score(algos[\"kNN\"], x, y, cv=kfold, scoring=scoring)\n",
    "mean_scores[\"kNN\"]=scores[\"kNN\"].mean()\n",
    "print scores[\"kNN\"]\n",
    "print mean_scores[\"kNN\"]"
   ]
  },
  {
   "cell_type": "markdown",
   "metadata": {
    "collapsed": true
   },
   "source": [
    "### GaussianNB with parameter tuning\n",
    "<h4>priors</h4>\n",
    "Prior probabilities of the classes. If specified the priors are not adjusted according to the data."
   ]
  },
  {
   "cell_type": "code",
   "execution_count": 116,
   "metadata": {
    "collapsed": true
   },
   "outputs": [],
   "source": [
    "priors = [[0.2,0.3,0.5],[0.3,0.5,0.2],[0.3,0.4,0.3],[0.33,0.33,0.34]]\n",
    "parameters = dict(priors = priors)"
   ]
  },
  {
   "cell_type": "code",
   "execution_count": 117,
   "metadata": {},
   "outputs": [
    {
     "name": "stdout",
     "output_type": "stream",
     "text": [
      "[ 0.833  0.833  0.833  0.75   1.     1.     0.917  1.     0.917  0.917]\n",
      "0.9\n"
     ]
    }
   ],
   "source": [
    "model=GaussianNB()\n",
    "\n",
    "models[\"NB\"] = GridSearchCV(model, param_grid = parameters)\n",
    "models[\"NB\"].fit(x,y)\n",
    "algos[\"NB\"] = GaussianNB(priors=models[\"NB\"].best_params_['priors'])\n",
    "scores[\"NB\"] = cross_val_score(algos[\"NB\"], x, y, cv=kfold, scoring=scoring)\n",
    "mean_scores[\"NB\"]=scores[\"NB\"].mean()\n",
    "print scores[\"NB\"]\n",
    "print mean_scores[\"NB\"]"
   ]
  },
  {
   "cell_type": "markdown",
   "metadata": {},
   "source": [
    "### Support Vector Machines with parameter tuning\n",
    "<h4>C</h4>\n",
    "Penalty parameter C of the error term.\n",
    "<h4>kernel</h4>\n",
    "Specifies the kernel type to be used in the algorithm. It must be one of ‘linear’, ‘poly’, ‘rbf’, ‘sigmoid’."
   ]
  },
  {
   "cell_type": "code",
   "execution_count": 118,
   "metadata": {
    "collapsed": true
   },
   "outputs": [],
   "source": [
    "parameters = {\n",
    "    'C':            [1,2,3,4,5,6,7,8,9],\n",
    "    'kernel':       ['linear', 'rbf',\"sigmoid\"]}"
   ]
  },
  {
   "cell_type": "code",
   "execution_count": 119,
   "metadata": {},
   "outputs": [
    {
     "name": "stdout",
     "output_type": "stream",
     "text": [
      "[ 0.833  0.833  0.75   0.833  1.     0.833  0.833  0.917  0.833  0.833]\n",
      "0.85\n"
     ]
    }
   ],
   "source": [
    "model=SVC()\n",
    "\n",
    "models[\"SVC\"] = GridSearchCV(model, param_grid = parameters)\n",
    "models[\"SVC\"].fit(x,y)\n",
    "algos[\"SVC\"] = SVC(C=models[\"SVC\"].best_params_['C'],\n",
    "                         kernel=models[\"SVC\"].best_params_['kernel'])\n",
    "scores[\"SVC\"] = cross_val_score(algos[\"SVC\"], x, y, cv=kfold, scoring=scoring)\n",
    "mean_scores[\"SVC\"]=scores[\"SVC\"].mean()\n",
    "print scores[\"SVC\"]\n",
    "print mean_scores[\"SVC\"]"
   ]
  },
  {
   "cell_type": "code",
   "execution_count": 127,
   "metadata": {},
   "outputs": [
    {
     "name": "stdout",
     "output_type": "stream",
     "text": [
      "Best algorithm with accuracy ('kNN', 0.90000000000000002)\n"
     ]
    }
   ],
   "source": [
    "sorted_acc = sorted(mean_scores.items(), key=operator.itemgetter(1))\n",
    "print \"Best algorithm with accuracy\",sorted_acc[len(sorted_acc)-1]"
   ]
  },
  {
   "cell_type": "markdown",
   "metadata": {},
   "source": [
    "## Step 8: Finalise Model\n",
    "Predictions on validation set, create model from the entire (training) dataset."
   ]
  },
  {
   "cell_type": "code",
   "execution_count": 128,
   "metadata": {},
   "outputs": [
    {
     "name": "stdout",
     "output_type": "stream",
     "text": [
      "accuracy after hyperparameter tuning= 0.733333333333\n",
      "accuracy before tuning= 0.733333333333\n",
      "Improvement: 0.0\n"
     ]
    }
   ],
   "source": [
    "algos[sorted_acc[len(sorted_acc)-1][0]].fit(x,y)\n",
    "predictions=algos[sorted_acc[len(sorted_acc)-1][0]].predict(x_test)\n",
    "models1[sorted_acc[len(sorted_acc)-1][0]].fit(x,y)\n",
    "accuracy_after = cross_val_score(algos[sorted_acc[len(sorted_acc)-1][0]], x_test, y_test, cv=kfold, scoring=scoring).mean()\n",
    "accuracy_before = cross_val_score(models1[sorted_acc[len(sorted_acc)-1][0]], x_test, y_test, cv=kfold, scoring=scoring).mean()\n",
    "\n",
    "print \"accuracy after hyperparameter tuning=\",accuracy_after\n",
    "print \"accuracy before tuning=\",accuracy_before\n",
    "if accuracy_before-accuracy_after<=0:\n",
    "    print \"Improvement:\",(accuracy_after-accuracy_before)\n",
    "else:\n",
    "    print 'Default values were better.'"
   ]
  },
  {
   "cell_type": "markdown",
   "metadata": {
    "collapsed": true
   },
   "source": [
    "## Step 9: Confusion Matrix"
   ]
  },
  {
   "cell_type": "markdown",
   "metadata": {},
   "source": [
    "Confusion matrix is metric of accuracy. The diagonal elements at the confusion matrix are the number of data that the best algorithm correctly predicted the target, while the rest are those that are not classified correctly. "
   ]
  },
  {
   "cell_type": "code",
   "execution_count": 129,
   "metadata": {},
   "outputs": [
    {
     "name": "stdout",
     "output_type": "stream",
     "text": [
      "\n",
      "confusion_matrix:\n",
      "[[11  0  0]\n",
      " [ 0  8  5]\n",
      " [ 0  1  5]]\n"
     ]
    }
   ],
   "source": [
    "print \"\\nconfusion_matrix:\\n\",(confusion_matrix(y_test, predictions))"
   ]
  },
  {
   "cell_type": "markdown",
   "metadata": {},
   "source": [
    "## Classification Report"
   ]
  },
  {
   "cell_type": "markdown",
   "metadata": {},
   "source": [
    "Clasification Report is also a metric for the classification model.\n",
    "    tp:number of true positives\n",
    "    fp:number of false positives\n",
    "    fn:number of false negatives\n",
    "    precision:tp / (tp + fp) and measures the ability of the algorithm not to classify positively a label that is negative\n",
    "    recall:ratio tp / (tp + fn) and measures the ability of the algorithm to find all the positive samples"
   ]
  },
  {
   "cell_type": "code",
   "execution_count": 132,
   "metadata": {},
   "outputs": [
    {
     "name": "stdout",
     "output_type": "stream",
     "text": [
      "\n",
      "classification_report:\n",
      "             precision    recall  f1-score   support\n",
      "\n",
      "        0.0       1.00      1.00      1.00        11\n",
      "        1.0       0.89      0.62      0.73        13\n",
      "        2.0       0.50      0.83      0.62         6\n",
      "\n",
      "avg / total       0.85      0.80      0.81        30\n",
      "\n"
     ]
    }
   ],
   "source": [
    "print \"\\nclassification_report:\\n\", (classification_report(y_test, predictions))"
   ]
  },
  {
   "cell_type": "code",
   "execution_count": null,
   "metadata": {
    "collapsed": true
   },
   "outputs": [],
   "source": []
  }
 ],
 "metadata": {
  "kernelspec": {
   "display_name": "Python 2",
   "language": "python",
   "name": "python2"
  },
  "language_info": {
   "codemirror_mode": {
    "name": "ipython",
    "version": 2
   },
   "file_extension": ".py",
   "mimetype": "text/x-python",
   "name": "python",
   "nbconvert_exporter": "python",
   "pygments_lexer": "ipython2",
   "version": "2.7.13"
  }
 },
 "nbformat": 4,
 "nbformat_minor": 2
}
